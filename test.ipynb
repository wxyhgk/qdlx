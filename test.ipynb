{
 "cells": [
  {
   "cell_type": "code",
   "execution_count": null,
   "metadata": {},
   "outputs": [],
   "source": [
    "\"\"\"\n",
    "1. \n",
    "2. \n",
    "3. \n",
    "\"\"\""
   ]
  },
  {
   "cell_type": "code",
   "execution_count": 53,
   "metadata": {},
   "outputs": [
    {
     "data": {
      "text/plain": [
       "'\\n标题：python 列表的基础知识\\n作者：关老师\\n日期：2023/8/23\\ncode: utf-8\\n'"
      ]
     },
     "execution_count": 53,
     "metadata": {},
     "output_type": "execute_result"
    }
   ],
   "source": [
    "\"\"\"\n",
    "标题：python 列表的基础知识\n",
    "作者：关老师\n",
    "日期：2023/8/23\n",
    "code: utf-8\n",
    "\"\"\""
   ]
  },
  {
   "cell_type": "code",
   "execution_count": null,
   "metadata": {},
   "outputs": [],
   "source": []
  },
  {
   "cell_type": "code",
   "execution_count": 3,
   "metadata": {},
   "outputs": [
    {
     "name": "stdout",
     "output_type": "stream",
     "text": [
      "['我', '爸爸', '妈妈', '爷爷']\n"
     ]
    }
   ],
   "source": [
    "# 一. 定义列表\n",
    "list_name = [\"我\",\"爸爸\",\"妈妈\",\"爷爷\",\"奶奶\"]\n",
    "\n",
    "list_name.pop()\n",
    "print(list_name)"
   ]
  },
  {
   "cell_type": "code",
   "execution_count": 127,
   "metadata": {},
   "outputs": [
    {
     "data": {
      "text/plain": [
       "'爸爸'"
      ]
     },
     "execution_count": 127,
     "metadata": {},
     "output_type": "execute_result"
    }
   ],
   "source": [
    "# 二. 列表操作\n",
    "## 1. 列表的索引\n",
    "list_name[1]"
   ]
  },
  {
   "cell_type": "code",
   "execution_count": 126,
   "metadata": {},
   "outputs": [
    {
     "name": "stdout",
     "output_type": "stream",
     "text": [
      "爷爷\n"
     ]
    }
   ],
   "source": [
    "print(list_name[-2])"
   ]
  },
  {
   "cell_type": "code",
   "execution_count": 131,
   "metadata": {},
   "outputs": [
    {
     "name": "stdout",
     "output_type": "stream",
     "text": [
      "['我', '爸爸', '妈妈', '爷爷', '奶奶', '姥姥', '姥姥', '姥爷']\n"
     ]
    }
   ],
   "source": [
    "## 2. 列表的增加（append, extend）\n",
    "list_name.extend([\"姥姥\",\"姥爷\"])\n",
    "print(list_name)"
   ]
  },
  {
   "cell_type": "code",
   "execution_count": 137,
   "metadata": {},
   "outputs": [],
   "source": [
    "## 3. 列表的删除(remvoe ,pop)\n",
    "# remove 是根据内容来删除\n",
    "list_1 = [\"1\",\"2\"]\n",
    "list_1.remove(\"1\")\n"
   ]
  },
  {
   "cell_type": "code",
   "execution_count": 138,
   "metadata": {},
   "outputs": [
    {
     "data": {
      "text/plain": [
       "'2'"
      ]
     },
     "execution_count": 138,
     "metadata": {},
     "output_type": "execute_result"
    }
   ],
   "source": [
    "# pop 是根据索引(位置)来删除\n",
    "list_1.pop()"
   ]
  },
  {
   "cell_type": "code",
   "execution_count": 21,
   "metadata": {},
   "outputs": [
    {
     "name": "stdout",
     "output_type": "stream",
     "text": [
      "['同学', '爸爸', '妈妈', '爷爷', '奶奶']\n"
     ]
    }
   ],
   "source": [
    "## 4. 列表的修改\n",
    "list_name[0] = \"同学\"\n",
    "print(list_name)"
   ]
  },
  {
   "cell_type": "code",
   "execution_count": 94,
   "metadata": {},
   "outputs": [
    {
     "name": "stdout",
     "output_type": "stream",
     "text": [
      "['2024', '8', '24']\n"
     ]
    }
   ],
   "source": [
    "list_time = [\"2023\",\"8\",\"24\"]\n",
    "list_time[0] = \"2024\"\n",
    "print(list_time)"
   ]
  },
  {
   "cell_type": "code",
   "execution_count": 107,
   "metadata": {},
   "outputs": [
    {
     "data": {
      "text/plain": [
       "'2024824'"
      ]
     },
     "execution_count": 107,
     "metadata": {},
     "output_type": "execute_result"
    }
   ],
   "source": [
    "# 列表和字符串的一个转化\n",
    "\"\".join(list_time)"
   ]
  },
  {
   "cell_type": "code",
   "execution_count": 122,
   "metadata": {},
   "outputs": [],
   "source": [
    "str_1 = \"我爱你中国\"\n",
    "list_str_1 = list(str_1)"
   ]
  },
  {
   "cell_type": "code",
   "execution_count": 123,
   "metadata": {},
   "outputs": [
    {
     "name": "stdout",
     "output_type": "stream",
     "text": [
      "['我', '爱', '你', '中', '国']\n"
     ]
    }
   ],
   "source": [
    "print(list_str_1)"
   ]
  },
  {
   "cell_type": "code",
   "execution_count": 110,
   "metadata": {},
   "outputs": [
    {
     "data": {
      "text/plain": [
       "['我', '的', '爸']"
      ]
     },
     "execution_count": 110,
     "metadata": {},
     "output_type": "execute_result"
    }
   ],
   "source": [
    "## 5. 列表的查询\n",
    "list_2 = ['我', '的', '爸', '爸', '是', '我', '的', '英', '雄', '。',1]\n",
    "list_2[0:3]"
   ]
  },
  {
   "cell_type": "code",
   "execution_count": 106,
   "metadata": {},
   "outputs": [
    {
     "data": {
      "text/plain": [
       "10"
      ]
     },
     "execution_count": 106,
     "metadata": {},
     "output_type": "execute_result"
    }
   ],
   "source": [
    "# 查个数 len 函数\n",
    "len(list_2)"
   ]
  },
  {
   "cell_type": "markdown",
   "metadata": {},
   "source": [
    "# 实战项目"
   ]
  },
  {
   "cell_type": "code",
   "execution_count": 71,
   "metadata": {},
   "outputs": [],
   "source": [
    "zuowen = \"我的爸爸是我的英雄。他是一位平凡而又伟大的人，他不仅在生活中关心照顾我们，而且在我成长的过程中对我产生了深远的影响。他教会了我许多东西，让我拥有了选择正确的路径和做明智的决定的能力。他教我如何坚持不懈，认真学习。我记得小时候我会因为作业困难而放弃，可是每当我这样做时，他会鼓励我坚持不懈，一点点完成每道题目。在他的身上，我看到了为人父母所应有的责任、勇气和耐心。他是我学习的榜样，我希望自己能够成为像他一样优秀的人。\""
   ]
  },
  {
   "cell_type": "code",
   "execution_count": 77,
   "metadata": {},
   "outputs": [
    {
     "name": "stdout",
     "output_type": "stream",
     "text": [
      "有 208 个字\n"
     ]
    }
   ],
   "source": [
    "# 有多个字\n",
    "print(\"有\",len(zuowen),\"个字\")"
   ]
  },
  {
   "cell_type": "code",
   "execution_count": 78,
   "metadata": {},
   "outputs": [
    {
     "data": {
      "text/plain": [
       "7"
      ]
     },
     "execution_count": 78,
     "metadata": {},
     "output_type": "execute_result"
    }
   ],
   "source": [
    "# 有多少句\n",
    "len(zuowen.split(\"。\"))-1"
   ]
  },
  {
   "cell_type": "code",
   "execution_count": 80,
   "metadata": {},
   "outputs": [
    {
     "name": "stdout",
     "output_type": "stream",
     "text": [
      "['我的爸爸是我的英雄', '他是一位平凡而又伟大的人，他不仅在生活中关心照顾我们，而且在我成长的过程中对我产生了深远的影响', '他教会了我许多东西，让我拥有了选择正确的路径和做明智的决定的能力', '他教我如何坚持不懈，认真学习', '我记得小时候我会因为作业困难而放弃，可是每当我这样做时，他会鼓励我坚持不懈，一点点完成每道题目', '在他的身上，我看到了为人父母所应有的责任、勇气和耐心', '他是我学习的榜样，我希望自己能够成为像他一样优秀的人', '']\n"
     ]
    }
   ],
   "source": [
    "# 删掉最后一句\n",
    "list_zuowen = zuowen.split(\"。\")\n",
    "print(list_zuowen)"
   ]
  },
  {
   "cell_type": "code",
   "execution_count": 81,
   "metadata": {},
   "outputs": [
    {
     "data": {
      "text/plain": [
       "'在他的身上，我看到了为人父母所应有的责任、勇气和耐心'"
      ]
     },
     "execution_count": 81,
     "metadata": {},
     "output_type": "execute_result"
    }
   ],
   "source": [
    "list_zuowen.pop(-3)"
   ]
  },
  {
   "cell_type": "code",
   "execution_count": 82,
   "metadata": {},
   "outputs": [
    {
     "data": {
      "text/plain": [
       "['我的爸爸是我的英雄',\n",
       " '他是一位平凡而又伟大的人，他不仅在生活中关心照顾我们，而且在我成长的过程中对我产生了深远的影响',\n",
       " '他教会了我许多东西，让我拥有了选择正确的路径和做明智的决定的能力',\n",
       " '他教我如何坚持不懈，认真学习',\n",
       " '我记得小时候我会因为作业困难而放弃，可是每当我这样做时，他会鼓励我坚持不懈，一点点完成每道题目',\n",
       " '他是我学习的榜样，我希望自己能够成为像他一样优秀的人',\n",
       " '']"
      ]
     },
     "execution_count": 82,
     "metadata": {},
     "output_type": "execute_result"
    }
   ],
   "source": [
    "list_zuowen"
   ]
  },
  {
   "cell_type": "code",
   "execution_count": 4,
   "metadata": {},
   "outputs": [],
   "source": [
    "# 导入numpy 包\n",
    "import numpy as np\n",
    "\n",
    "# 初始化坐标\n",
    "list_p = [\n",
    "    [0,0,0],\n",
    "    [0,1,2]\n",
    "]\n",
    "\n",
    "np_p = np.array(list_p)"
   ]
  },
  {
   "cell_type": "code",
   "execution_count": 8,
   "metadata": {},
   "outputs": [],
   "source": [
    "list_2 = np.arange(1,101,1)"
   ]
  },
  {
   "cell_type": "code",
   "execution_count": 9,
   "metadata": {},
   "outputs": [
    {
     "data": {
      "text/plain": [
       "array([[  1,   2,   3,   4,   5],\n",
       "       [  6,   7,   8,   9,  10],\n",
       "       [ 11,  12,  13,  14,  15],\n",
       "       [ 16,  17,  18,  19,  20],\n",
       "       [ 21,  22,  23,  24,  25],\n",
       "       [ 26,  27,  28,  29,  30],\n",
       "       [ 31,  32,  33,  34,  35],\n",
       "       [ 36,  37,  38,  39,  40],\n",
       "       [ 41,  42,  43,  44,  45],\n",
       "       [ 46,  47,  48,  49,  50],\n",
       "       [ 51,  52,  53,  54,  55],\n",
       "       [ 56,  57,  58,  59,  60],\n",
       "       [ 61,  62,  63,  64,  65],\n",
       "       [ 66,  67,  68,  69,  70],\n",
       "       [ 71,  72,  73,  74,  75],\n",
       "       [ 76,  77,  78,  79,  80],\n",
       "       [ 81,  82,  83,  84,  85],\n",
       "       [ 86,  87,  88,  89,  90],\n",
       "       [ 91,  92,  93,  94,  95],\n",
       "       [ 96,  97,  98,  99, 100]])"
      ]
     },
     "execution_count": 9,
     "metadata": {},
     "output_type": "execute_result"
    }
   ],
   "source": [
    "list_2.reshape(20,5)"
   ]
  },
  {
   "cell_type": "code",
   "execution_count": 10,
   "metadata": {},
   "outputs": [
    {
     "data": {
      "text/plain": [
       "array([  1,   2,   3,   4,   5,   6,   7,   8,   9,  10,  11,  12,  13,\n",
       "        14,  15,  16,  17,  18,  19,  20,  21,  22,  23,  24,  25,  26,\n",
       "        27,  28,  29,  30,  31,  32,  33,  34,  35,  36,  37,  38,  39,\n",
       "        40,  41,  42,  43,  44,  45,  46,  47,  48,  49,  50,  51,  52,\n",
       "        53,  54,  55,  56,  57,  58,  59,  60,  61,  62,  63,  64,  65,\n",
       "        66,  67,  68,  69,  70,  71,  72,  73,  74,  75,  76,  77,  78,\n",
       "        79,  80,  81,  82,  83,  84,  85,  86,  87,  88,  89,  90,  91,\n",
       "        92,  93,  94,  95,  96,  97,  98,  99, 100])"
      ]
     },
     "execution_count": 10,
     "metadata": {},
     "output_type": "execute_result"
    }
   ],
   "source": [
    "list_2"
   ]
  },
  {
   "cell_type": "code",
   "execution_count": 15,
   "metadata": {},
   "outputs": [],
   "source": [
    "np_1 = np.linspace(1,10,5)"
   ]
  },
  {
   "cell_type": "code",
   "execution_count": 16,
   "metadata": {},
   "outputs": [
    {
     "name": "stdout",
     "output_type": "stream",
     "text": [
      "[ 1.    3.25  5.5   7.75 10.  ]\n"
     ]
    }
   ],
   "source": [
    "print(np_1)"
   ]
  },
  {
   "cell_type": "code",
   "execution_count": 18,
   "metadata": {},
   "outputs": [
    {
     "name": "stdout",
     "output_type": "stream",
     "text": [
      "购物车的总价是10.5元\n"
     ]
    }
   ],
   "source": [
    "from typing import List\n",
    "\n",
    "def calc_total(cart:List[dict],key:str)->float:\n",
    "    total = 0\n",
    "    for i in cart:\n",
    "        value = i[key]\n",
    "        total = total + value\n",
    "    return total\n",
    "    \n",
    "shopping_cart = [\n",
    "\n",
    "    {\"name\":\"苹果\",\"price\":5,\"count\":2},\n",
    "    {\"name\":\"香蕉\",\"price\":3,\"count\":3},\n",
    "    {\"name\":\"橘子\",\"price\":2.5,\"count\":4},\n",
    "]\n",
    "\n",
    "calc_total(shopping_cart,\"price\")\n",
    "print(f'购物车的总价是{calc_total(shopping_cart,\"price\")}元')"
   ]
  },
  {
   "cell_type": "code",
   "execution_count": 4,
   "metadata": {},
   "outputs": [
    {
     "data": {
      "text/plain": [
       "['5432', '5431', '5421', '5321', '4321']"
      ]
     },
     "execution_count": 4,
     "metadata": {},
     "output_type": "execute_result"
    }
   ],
   "source": [
    "# 导入 List 包\n",
    "from typing import List\n",
    "\n",
    "# 定义生成函数\n",
    "def generate_sequences(n: int, m: int) -> List[str]:\n",
    "    \"\"\"\n",
    "    n,m 为整数\n",
    "    \"\"\"\n",
    "    results = []\n",
    "    \n",
    "    def helper(sequence: List[int], start: int):\n",
    "        # 通过长度判断是否结束\n",
    "        if len(sequence) == m:\n",
    "            results.append(''.join(map(str, sequence)))\n",
    "            return\n",
    "        \n",
    "        for i in range(start, 0, -1):\n",
    "            helper(sequence + [i], i - 1)\n",
    "    \n",
    "    helper([], n)\n",
    "    return results\n",
    "\n",
    "# 测试 n=5, m=3 的情况\n",
    "n = 5\n",
    "m = 4\n",
    "output = generate_sequences(n, m)\n",
    "output\n"
   ]
  },
  {
   "cell_type": "code",
   "execution_count": 1,
   "metadata": {},
   "outputs": [],
   "source": [
    "num = [1,2,3,4]"
   ]
  },
  {
   "cell_type": "code",
   "execution_count": 3,
   "metadata": {},
   "outputs": [
    {
     "name": "stdout",
     "output_type": "stream",
     "text": [
      "['1', '2', '3', '4']\n"
     ]
    }
   ],
   "source": [
    "str_num = map(str,num)\n",
    "print(list(str_num))"
   ]
  },
  {
   "cell_type": "code",
   "execution_count": 5,
   "metadata": {},
   "outputs": [],
   "source": [
    "# 力扣刷题\n",
    "class Solution:\n",
    "    def twoSum(self, nums: List[int], target: int) -> List[int]:\n",
    "        for i in range(len(nums)-1):\n",
    "            for j in range(i+1,len(nums)):\n",
    "                if nums[i]+nums[j] == target:\n",
    "                    return [i,j]"
   ]
  },
  {
   "cell_type": "code",
   "execution_count": 6,
   "metadata": {},
   "outputs": [
    {
     "data": {
      "text/plain": [
       "[0, 1]"
      ]
     },
     "execution_count": 6,
     "metadata": {},
     "output_type": "execute_result"
    }
   ],
   "source": [
    "Solution().twoSum([2,7,11,15],9)"
   ]
  },
  {
   "cell_type": "code",
   "execution_count": 8,
   "metadata": {},
   "outputs": [],
   "source": [
    "import interpreter"
   ]
  },
  {
   "cell_type": "code",
   "execution_count": 10,
   "metadata": {},
   "outputs": [
    {
     "data": {
      "text/plain": [
       "55"
      ]
     },
     "execution_count": 10,
     "metadata": {},
     "output_type": "execute_result"
    }
   ],
   "source": [
    "# 导入numpy 包\n",
    "import numpy as np\n",
    "\n",
    "# 初始化数据\n",
    "list_np = np.array([1,2,3,4,5,6,7,8,9,10])\n",
    "\n",
    "# 1. 求和\n",
    "np.sum(list_np)\n"
   ]
  },
  {
   "cell_type": "code",
   "execution_count": 11,
   "metadata": {},
   "outputs": [
    {
     "data": {
      "text/plain": [
       "array([ 1,  2,  3,  4,  5,  6,  7,  8,  9, 10])"
      ]
     },
     "execution_count": 11,
     "metadata": {},
     "output_type": "execute_result"
    }
   ],
   "source": [
    "# 2.排序\n",
    "np.sort(list_np)"
   ]
  },
  {
   "cell_type": "code",
   "execution_count": 12,
   "metadata": {},
   "outputs": [
    {
     "name": "stdout",
     "output_type": "stream",
     "text": [
      "C:\\Users\\Administrator\\AppData\\Local\\Microsoft\\WindowsApps\\PythonSoftwareFoundation.Python.3.10_qbz5n2kfra8p0\\python.exe\n"
     ]
    }
   ],
   "source": [
    "import sys\n",
    "print(sys.executable)\n"
   ]
  },
  {
   "cell_type": "code",
   "execution_count": 14,
   "metadata": {},
   "outputs": [
    {
     "name": "stdout",
     "output_type": "stream",
     "text": [
      "['C:\\\\Users\\\\Administrator\\\\AppData\\\\Local\\\\Packages\\\\PythonSoftwareFoundation.Python.3.10_qbz5n2kfra8p0\\\\LocalCache\\\\local-packages\\\\Python310\\\\site-packages\\\\openai']\n"
     ]
    }
   ],
   "source": [
    "import openai  # 把这里的openai换成你想查的包名\n",
    "print(openai.__path__)\n"
   ]
  },
  {
   "cell_type": "code",
   "execution_count": null,
   "metadata": {},
   "outputs": [],
   "source": [
    "import openai\n",
    "\n",
    "openai.api_base = \"https://magic-api.ninomae.cn/v1\"\n",
    "openai.api_key = \"sk-xxx\"\n",
    "\n",
    "response = openai.ChatCompletion.create(\n",
    "    model='gpt-3.5-turbo',\n",
    "    messages=[\n",
    "        {'role': 'user', 'content': \"hi\"},\n",
    "    ],\n",
    "    temperature=0,\n",
    "    stream=True\n",
    ")\n",
    "\n",
    "for chunk in response:\n",
    "    print(chunk.choices[0].delta.get(\"content\", \"\"), end=\"\", flush=True)"
   ]
  },
  {
   "cell_type": "code",
   "execution_count": 2,
   "metadata": {},
   "outputs": [
    {
     "data": {
      "image/png": "[encoded data removed]",
      "text/plain": [
       "<Figure size 640x480 with 1 Axes>"
      ]
     },
     "metadata": {
      "image/png": {
       "height": 413,
       "width": 568
      }
     },
     "output_type": "display_data"
    }
   ],
   "source": [
    "# 设置高清显示\n",
    "%config InlineBackend.figure_format = 'retina'\n",
    "# 导入matplotlib 包\n",
    "import matplotlib.pyplot as plt     \n",
    "# 导入 numpy 包\n",
    "import numpy as np\n",
    "\n",
    "# 绘制sinx 图像\n",
    "x = np.linspace(-np.pi, np.pi, 100)\n",
    "plt.plot(x, np.sin(x))\n",
    "plt.show()\n",
    "\n"
   ]
  },
  {
   "cell_type": "code",
   "execution_count": null,
   "metadata": {},
   "outputs": [],
   "source": []
  }
 ],
 "metadata": {
  "kernelspec": {
   "display_name": "Python 3",
   "language": "python",
   "name": "python3"
  },
  "language_info": {
   "codemirror_mode": {
    "name": "ipython",
    "version": 3
   },
   "file_extension": ".py",
   "mimetype": "text/x-python",
   "name": "python",
   "nbconvert_exporter": "python",
   "pygments_lexer": "ipython3",
   "version": "3.10.11"
  },
  "orig_nbformat": 4
 },
 "nbformat": 4,
 "nbformat_minor": 2
}
